{
 "cells": [
  {
   "cell_type": "code",
   "execution_count": 1,
   "metadata": {
    "vscode": {
     "languageId": "shellscript"
    }
   },
   "outputs": [
    {
     "name": "stdout",
     "output_type": "stream",
     "text": [
      "\u001b[31mERROR: pip's dependency resolver does not currently take into account all the packages that are installed. This behaviour is the source of the following dependency conflicts.\n",
      "gradio 5.8.0 requires aiofiles<24.0,>=22.0, but you have aiofiles 24.1.0 which is incompatible.\u001b[0m\u001b[31m\n",
      "\u001b[0mNote: you may need to restart the kernel to use updated packages.\n"
     ]
    }
   ],
   "source": [
    "pip install -qU langchain_community unstructured markdown"
   ]
  },
  {
   "cell_type": "code",
   "execution_count": 2,
   "metadata": {},
   "outputs": [],
   "source": [
    "from langchain_community.document_loaders import UnstructuredMarkdownLoader\n",
    "\n",
    "loader = UnstructuredMarkdownLoader(\n",
    "    \"./data.md\",\n",
    "    mode=\"single\",\n",
    "    strategy=\"fast\",\n",
    ")"
   ]
  },
  {
   "cell_type": "code",
   "execution_count": null,
   "metadata": {},
   "outputs": [
    {
     "name": "stdout",
     "output_type": "stream",
     "text": [
      "1\n",
      "Sample Markdown Document\n",
      "\n",
      "Introduction\n",
      "\n",
      "Welcome to this sample Markdown document. Markdown is a lightweight markup language used for formatting text. It's widely used for documentation, readme files, and more.\n",
      "\n",
      "Features\n",
      "\n",
      "Headers\n",
      "\n",
      "Markdown supports multiple levels of headers:\n",
      "\n",
      "Header 1: # Header 1\n",
      "\n",
      "Header 2: ## Header 2\n",
      "\n",
      "Header 3: ### Header 3\n",
      "\n",
      "Lists\n",
      "\n",
      "Unordered List\n",
      "\n",
      "Item 1\n",
      "\n",
      "Item 2\n",
      "\n",
      "Subitem 2.1\n",
      "\n",
      "Subitem 2.2\n",
      "\n",
      "Ordered List\n",
      "\n",
      "First item\n",
      "\n",
      "Second item\n",
      "\n",
      "Third item\n",
      "\n",
      "Links\n",
      "\n",
      "OpenAI is an AI research organization.\n",
      "\n",
      "Images\n",
      "\n",
      "Here's an example image:\n",
      "\n",
      "Code\n",
      "\n",
      "Inline Code\n",
      "\n",
      "Use code for inline code snippets.\n",
      "\n",
      "Code Block\n",
      "\n",
      "```python def greet(name): return f\"Hello, {name}!\"\n",
      "\n",
      "print(greet(\"World\")) ```\n"
     ]
    }
   ],
   "source": [
    "docs = loader.load()\n",
    "#print(docs[0])\n",
    "print(docs[0].page_content)\n",
    "#print(docs[0].metadata)"
   ]
  }
 ],
 "metadata": {
  "kernelspec": {
   "display_name": "Python 3",
   "language": "python",
   "name": "python3"
  },
  "language_info": {
   "codemirror_mode": {
    "name": "ipython",
    "version": 3
   },
   "file_extension": ".py",
   "mimetype": "text/x-python",
   "name": "python",
   "nbconvert_exporter": "python",
   "pygments_lexer": "ipython3",
   "version": "3.11.9"
  }
 },
 "nbformat": 4,
 "nbformat_minor": 2
}
